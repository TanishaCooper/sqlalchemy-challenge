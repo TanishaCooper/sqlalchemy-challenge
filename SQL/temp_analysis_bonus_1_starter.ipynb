{
 "cells": [
  {
   "cell_type": "markdown",
   "metadata": {},
   "source": [
    "# Temperature Analysis 1\n",
    "\n",
    "We are vacationing in Hawaii! The temperature analysis challenge is to determine the following: Hawaii is reputed to enjoy mild weather all year round. Is there a meaningful difference between the temperatures in, for example, June and December?\n",
    "\n",
    "Short answer: Yes!\n",
    "\n",
    "## Challenge Process\n",
    "\n",
    "1. Used SQLAlchemy to extract the temperature data from June and Decemeber into a DataFrame\n",
    "2. Computed average temperature for June and December\n",
    "3. Conducted a paired t-test due to 2 independent samples from the same population to determine whether the difference in the mean is statistically significant\n",
    "\n",
    "The p-value in temperatures compared in June and Decemeber is 3.9. Therefore, a p-value < 5% indicates evidence that you should reject the null hypothesis. The latter concludes that the difference in temperatures between June and Decemeber is significant."
   ]
  },
  {
   "cell_type": "code",
   "execution_count": 1,
   "metadata": {},
   "outputs": [],
   "source": [
    "%matplotlib inline\n",
    "from matplotlib import style\n",
    "style.use('fivethirtyeight')\n",
    "import matplotlib.pyplot as plt"
   ]
  },
  {
   "cell_type": "code",
   "execution_count": 2,
   "metadata": {},
   "outputs": [],
   "source": [
    "import numpy as np\n",
    "import pandas as pd\n",
    "import datetime as dt\n",
    "from sqlalchemy import inspect"
   ]
  },
  {
   "cell_type": "markdown",
   "metadata": {},
   "source": [
    "# Reflect Tables into SQLAlchemy ORM"
   ]
  },
  {
   "cell_type": "code",
   "execution_count": 3,
   "metadata": {},
   "outputs": [],
   "source": [
    "# Python SQL toolkit and Object Relational Mapper\n",
    "import sqlalchemy\n",
    "from sqlalchemy.ext.automap import automap_base\n",
    "from sqlalchemy.orm import Session\n",
    "from sqlalchemy import create_engine, func"
   ]
  },
  {
   "cell_type": "code",
   "execution_count": 4,
   "metadata": {},
   "outputs": [],
   "source": [
    "# create engine to hawaii.sqlite\n",
    "engine = create_engine(\"sqlite:///../Resources/hawaii.sqlite\")"
   ]
  },
  {
   "cell_type": "code",
   "execution_count": 5,
   "metadata": {},
   "outputs": [],
   "source": [
    "# reflect an existing database into a new model\n",
    "Base = automap_base()\n",
    "# reflect the tables\n",
    "Base.prepare(engine, reflect=True)"
   ]
  },
  {
   "cell_type": "code",
   "execution_count": 6,
   "metadata": {},
   "outputs": [
    {
     "data": {
      "text/plain": [
       "['measurement', 'station']"
      ]
     },
     "execution_count": 6,
     "metadata": {},
     "output_type": "execute_result"
    }
   ],
   "source": [
    "# View all of the classes that automap found\n",
    "Base.classes.keys()"
   ]
  },
  {
   "cell_type": "code",
   "execution_count": 7,
   "metadata": {},
   "outputs": [],
   "source": [
    "# Save references to each table\n",
    "Measurement = Base.classes.measurement\n",
    "Station = Base.classes.station"
   ]
  },
  {
   "cell_type": "code",
   "execution_count": 8,
   "metadata": {},
   "outputs": [],
   "source": [
    "# Create our session (link) from Python to the DB\n",
    "session = Session(engine)"
   ]
  },
  {
   "cell_type": "markdown",
   "metadata": {},
   "source": [
    "# Bonus: Temperature Analysis I"
   ]
  },
  {
   "cell_type": "code",
   "execution_count": 11,
   "metadata": {},
   "outputs": [
    {
     "name": "stdout",
     "output_type": "stream",
     "text": [
      "June Temp Avg:74.94411764705882(F). Decemeber Temp Avg:71.04152933421226(F)\n"
     ]
    }
   ],
   "source": [
    "# Query June and December temperature data\n",
    "\n",
    "sel = [Measurement.date, Measurement.tobs]\n",
    "\n",
    "Jun_temps = session.query(*sel).\\\n",
    "        filter(func.strftime('%m', Measurement.date) == '06').all()\n",
    "\n",
    "Dec_temps = session.query(*sel).\\\n",
    "        filter(func.strftime('%m', Measurement.date) == '12').all()\n",
    "\n",
    "# Conver June and Dec temp into dF\n",
    "Jun_df = pd.DataFrame(Jun_temps,columns=[\"Date\",\"Temperature\"])\n",
    "\n",
    "Dec_df = pd.DataFrame(Dec_temps,columns=[\"Date\",\"Temperature\"])\n",
    "\n",
    "# Calculate the average temperature in June and December \n",
    "Jun_avg = Jun_df[\"Temperature\"].mean()\n",
    "Dec_avg = Dec_df[\"Temperature\"].mean()\n",
    "\n",
    "# Show June and Decemeber Temp Averages\n",
    "print(f\"June Temp Avg:{Jun_avg}(F). Decemeber Temp Avg:{Dec_avg}(F)\")"
   ]
  },
  {
   "cell_type": "markdown",
   "metadata": {},
   "source": [
    "### Compare June and December data across all years "
   ]
  },
  {
   "cell_type": "code",
   "execution_count": 12,
   "metadata": {},
   "outputs": [],
   "source": [
    "from scipy import stats"
   ]
  },
  {
   "cell_type": "markdown",
   "metadata": {},
   "source": [
    "### Analysis"
   ]
  },
  {
   "cell_type": "code",
   "execution_count": 13,
   "metadata": {},
   "outputs": [
    {
     "data": {
      "text/plain": [
       "Ttest_indResult(statistic=31.60372399000329, pvalue=3.9025129038616655e-191)"
      ]
     },
     "execution_count": 13,
     "metadata": {},
     "output_type": "execute_result"
    }
   ],
   "source": [
    "stats.ttest_ind(Jun_df[\"Temperature\"], Dec_df[\"Temperature\"])"
   ]
  },
  {
   "cell_type": "markdown",
   "metadata": {},
   "source": [
    "The p-value in temperatures compared in June and Decemeber is 3.9. Therefore, a p-value < 5% indicates evidence that you should reject the null hypothesis. The latter concludes that the difference in temperatures between June and Decemeber is significant."
   ]
  },
  {
   "cell_type": "markdown",
   "metadata": {},
   "source": [
    "## Close Session"
   ]
  },
  {
   "cell_type": "code",
   "execution_count": 14,
   "metadata": {},
   "outputs": [],
   "source": [
    "# Close Session\n",
    "session.close()"
   ]
  }
 ],
 "metadata": {
  "kernelspec": {
   "display_name": "Python 3 (ipykernel)",
   "language": "python",
   "name": "python3"
  },
  "language_info": {
   "codemirror_mode": {
    "name": "ipython",
    "version": 3
   },
   "file_extension": ".py",
   "mimetype": "text/x-python",
   "name": "python",
   "nbconvert_exporter": "python",
   "pygments_lexer": "ipython3",
   "version": "3.9.7"
  }
 },
 "nbformat": 4,
 "nbformat_minor": 4
}
